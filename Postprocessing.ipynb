{
 "cells": [
  {
   "cell_type": "code",
   "execution_count": 1,
   "metadata": {},
   "outputs": [
    {
     "data": {
      "text/plain": [
       "True"
      ]
     },
     "execution_count": 1,
     "metadata": {},
     "output_type": "execute_result"
    }
   ],
   "source": [
    "import cv2\n",
    "import numpy as np\n",
    "\n",
    "# load color image\n",
    "im = cv2.imread('images\\\\forus_skel.png')\n",
    "\n",
    "# smooth the image with alternative closing and opening\n",
    "# with an enlarging kernel\n",
    "morph = im.copy()\n",
    "\n",
    "kernel = cv2.getStructuringElement(cv2.MORPH_RECT, (1, 1))\n",
    "morph = cv2.morphologyEx(morph, cv2.MORPH_CLOSE, kernel)\n",
    "morph = cv2.morphologyEx(morph, cv2.MORPH_OPEN, kernel)\n",
    "\n",
    "kernel = cv2.getStructuringElement(cv2.MORPH_RECT, (2, 2))\n",
    "\n",
    "# take morphological gradient\n",
    "gradient_image = cv2.morphologyEx(morph, cv2.MORPH_GRADIENT, kernel)\n",
    "\n",
    "# split the gradient image into channels\n",
    "image_channels = np.split(np.asarray(gradient_image), 3, axis=2)\n",
    "\n",
    "channel_height, channel_width, _ = image_channels[0].shape\n",
    "\n",
    "# apply Otsu threshold to each channel\n",
    "for i in range(0, 3):\n",
    "    _, image_channels[i] = cv2.threshold(~image_channels[i], 0, 255, cv2.THRESH_OTSU | cv2.THRESH_BINARY)\n",
    "    image_channels[i] = np.reshape(image_channels[i], newshape=(channel_height, channel_width, 1))\n",
    "\n",
    "# merge the channels\n",
    "image_channels = np.concatenate((image_channels[0], image_channels[1], image_channels[2]), axis=2)\n",
    "\n",
    "# save the denoised image\n",
    "cv2.imwrite('output.jpg', image_channels)\n"
   ]
  },
  {
   "cell_type": "code",
   "execution_count": 2,
   "metadata": {},
   "outputs": [
    {
     "data": {
      "text/plain": [
       "True"
      ]
     },
     "execution_count": 2,
     "metadata": {},
     "output_type": "execute_result"
    }
   ],
   "source": [
    "image = im\n",
    "image = ~image\n",
    "cv2.imwrite(\"img_skel_inv.png\",image)"
   ]
  },
  {
   "cell_type": "code",
   "execution_count": null,
   "metadata": {},
   "outputs": [],
   "source": []
  }
 ],
 "metadata": {
  "kernelspec": {
   "display_name": "Python 3",
   "language": "python",
   "name": "python3"
  },
  "language_info": {
   "codemirror_mode": {
    "name": "ipython",
    "version": 3
   },
   "file_extension": ".py",
   "mimetype": "text/x-python",
   "name": "python",
   "nbconvert_exporter": "python",
   "pygments_lexer": "ipython3",
   "version": "3.7.4"
  }
 },
 "nbformat": 4,
 "nbformat_minor": 2
}
